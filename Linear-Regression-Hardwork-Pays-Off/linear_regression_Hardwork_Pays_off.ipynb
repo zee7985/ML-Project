{
 "cells": [
  {
   "cell_type": "code",
   "execution_count": 84,
   "metadata": {},
   "outputs": [],
   "source": [
    "import matplotlib.pyplot as plt\n",
    "import pandas as pd\n",
    "import numpy as np\n",
    "\n",
    "def read(filename):\n",
    "    df=pd.read_csv(filename)\n",
    "    return df.values"
   ]
  },
  {
   "cell_type": "code",
   "execution_count": 85,
   "metadata": {},
   "outputs": [],
   "source": [
    "x=read('C:\\\\Users\\zeesh\\OneDrive\\Desktop\\Linear_X_Train.csv')"
   ]
  },
  {
   "cell_type": "code",
   "execution_count": 86,
   "metadata": {},
   "outputs": [],
   "source": [
    "y=read(\"C:\\\\Users\\zeesh\\OneDrive\\Desktop\\Linear_Y_Train.csv\")\n"
   ]
  },
  {
   "cell_type": "code",
   "execution_count": 87,
   "metadata": {},
   "outputs": [],
   "source": [
    "\n",
    "x=(x-x.mean())/x.std()\n"
   ]
  },
  {
   "cell_type": "code",
   "execution_count": 88,
   "metadata": {},
   "outputs": [],
   "source": [
    "x=x.reshape((3750,))\n",
    "y=y.reshape((3750,))"
   ]
  },
  {
   "cell_type": "code",
   "execution_count": 89,
   "metadata": {},
   "outputs": [
    {
     "data": {
      "image/png": "[encoded data removed]",
      "text/plain": [
       "<Figure size 432x288 with 1 Axes>"
      ]
     },
     "metadata": {
      "needs_background": "light"
     },
     "output_type": "display_data"
    }
   ],
   "source": [
    "plt.scatter(x,y)\n",
    "plt.show()"
   ]
  },
  {
   "cell_type": "code",
   "execution_count": 90,
   "metadata": {},
   "outputs": [],
   "source": [
    "def hypothesis(theta,x):\n",
    "    return theta[0]+theta[1]*x"
   ]
  },
  {
   "cell_type": "code",
   "execution_count": 91,
   "metadata": {},
   "outputs": [],
   "source": [
    "def error(x,y,theta):\n",
    "    total_error = 0\n",
    "    m=x.shape[0]\n",
    "    \n",
    "    for i in range(m):\n",
    "        total_error += (y[i]-hypothesis(theta,x[i]))**2\n",
    "        \n",
    "    return 0.5*total_error"
   ]
  },
  {
   "cell_type": "code",
   "execution_count": 92,
   "metadata": {},
   "outputs": [],
   "source": [
    "def gradient(x,y,theta):\n",
    "    grad=np.array([0.0,0.0])\n",
    "    m=x.shape[0]\n",
    "    \n",
    "    for i in range(m):\n",
    "        grad[0] += -1*(y[i]-hypothesis(theta,x[i]))\n",
    "        grad[1] += -1*(y[i]-hypothesis(theta,x[i]))*x[i] \n",
    "    return grad"
   ]
  },
  {
   "cell_type": "code",
   "execution_count": 93,
   "metadata": {},
   "outputs": [],
   "source": [
    "def gradientDescent(x,y,learning_rate,maxItr):\n",
    "    grad=np.array([0.0,0.0])\n",
    "    theta=np.array([0.0,0.0])\n",
    "    theta_list=[]\n",
    "    e=[]\n",
    "    \n",
    "    for i in range(maxItr):\n",
    "        grad=gradient(x,y,theta)\n",
    "        ce=error(x,y,theta)\n",
    "        #print(grad)\n",
    "       #print(ce)\n",
    "        theta[0]=theta[0]-learning_rate*grad[0]\n",
    "        theta[1]=theta[1]-learning_rate*grad[1]  \n",
    "        e.append(ce)\n",
    "        theta_list.append((theta[0],theta[1]))\n",
    "    return theta,e,theta_list\n",
    "    "
   ]
  },
  {
   "cell_type": "code",
   "execution_count": 94,
   "metadata": {},
   "outputs": [],
   "source": [
    "theta,e,theta_list=gradientDescent(x,y,learning_rate=0.0001,maxItr=100)"
   ]
  },
  {
   "cell_type": "code",
   "execution_count": 95,
   "metadata": {},
   "outputs": [
    {
     "name": "stdout",
     "output_type": "stream",
     "text": [
      "[ 0.68386897 79.90573694]\n"
     ]
    }
   ],
   "source": [
    "print(theta)"
   ]
  },
  {
   "cell_type": "code",
   "execution_count": 96,
   "metadata": {},
   "outputs": [
    {
     "data": {
      "image/png": "[encoded data removed]",
      "text/plain": [
       "<Figure size 432x288 with 1 Axes>"
      ]
     },
     "metadata": {
      "needs_background": "light"
     },
     "output_type": "display_data"
    }
   ],
   "source": [
    "plt.plot(e)\n",
    "plt.show()"
   ]
  },
  {
   "cell_type": "code",
   "execution_count": 97,
   "metadata": {},
   "outputs": [
    {
     "data": {
      "image/png": "[encoded data removed]",
      "text/plain": [
       "<Figure size 432x288 with 1 Axes>"
      ]
     },
     "metadata": {
      "needs_background": "light"
     },
     "output_type": "display_data"
    }
   ],
   "source": [
    "plt.scatter(x,y)\n",
    "plt.plot(x,hypothesis(theta,x),color='r')\n",
    "plt.show()"
   ]
  },
  {
   "cell_type": "code",
   "execution_count": 98,
   "metadata": {},
   "outputs": [],
   "source": [
    "xt=read(\"C:\\\\Users\\\\zeesh\\\\OneDrive\\\\Desktop\\\\Linear_X_Test.csv\")\n",
    "#sample=read(\"C:\\\\Users\\\\zeesh\\\\OneDrive\\\\Desktop\\\\sample_submission_linear.csv\")\n"
   ]
  },
  {
   "cell_type": "code",
   "execution_count": 99,
   "metadata": {},
   "outputs": [],
   "source": [
    "yt=hypothesis(theta,xt)"
   ]
  },
  {
   "cell_type": "code",
   "execution_count": 100,
   "metadata": {},
   "outputs": [
    {
     "name": "stdout",
     "output_type": "stream",
     "text": [
      "[[-149.37466337]\n",
      " [ -68.7567667 ]\n",
      " [-201.49222227]\n",
      " ...\n",
      " [  10.91242825]\n",
      " [ -21.53292954]\n",
      " [ -53.68602633]]\n"
     ]
    }
   ],
   "source": [
    "yt=np.array(yt)\n",
    "print(yt)\n"
   ]
  },
  {
   "cell_type": "code",
   "execution_count": 101,
   "metadata": {},
   "outputs": [],
   "source": [
    "#sample['y']=yt\n",
    "sample = pd.DataFrame(yt)\n",
    "sample.to_csv('C:\\\\Users\\\\zeesh\\\\OneDrive\\\\Desktop\\\\sample_submission_linear.csv')"
   ]
  },
  {
   "cell_type": "code",
   "execution_count": null,
   "metadata": {},
   "outputs": [],
   "source": []
  }
 ],
 "metadata": {
  "kernelspec": {
   "display_name": "Python 3",
   "language": "python",
   "name": "python3"
  },
  "language_info": {
   "codemirror_mode": {
    "name": "ipython",
    "version": 3
   },
   "file_extension": ".py",
   "mimetype": "text/x-python",
   "name": "python",
   "nbconvert_exporter": "python",
   "pygments_lexer": "ipython3",
   "version": "3.7.4"
  }
 },
 "nbformat": 4,
 "nbformat_minor": 2
}
